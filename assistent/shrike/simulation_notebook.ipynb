{
 "cells": [
  {
   "cell_type": "code",
   "execution_count": 1,
   "id": "9ae3fd89ff78dc9b",
   "metadata": {
    "ExecuteTime": {
     "end_time": "2024-05-13T22:01:30.135951Z",
     "start_time": "2024-05-13T22:01:30.087037Z"
    }
   },
   "outputs": [],
   "source": [
    "from graphs_management_utilities import dict_of_lists_to_graph, pasts_to_tags_graph, posts_dict, tags_dict\n",
    "from tags_management_utilities import tags_list, tags_string\n",
    "from youtube_downloader import download_video"
   ]
  },
  {
   "cell_type": "code",
   "execution_count": 2,
   "id": "d29bffafb614b6f5",
   "metadata": {
    "ExecuteTime": {
     "end_time": "2024-05-13T22:01:34.393370Z",
     "start_time": "2024-05-13T22:01:30.743767Z"
    }
   },
   "outputs": [],
   "source": [
    "youtube_url = \"https://www.youtube.com/watch?v=_rBPwu2uS-w\"\n",
    "YOUTUBE_VIDEOS_FOLDER = \"youtube_videos_storage\"\n",
    "fr = download_video(youtube_url, YOUTUBE_VIDEOS_FOLDER, True)"
   ]
  },
  {
   "cell_type": "code",
   "execution_count": 3,
   "id": "cbbb725a33656e67",
   "metadata": {
    "ExecuteTime": {
     "end_time": "2024-05-13T22:01:34.408966Z",
     "start_time": "2024-05-13T22:01:34.396383Z"
    }
   },
   "outputs": [
    {
     "data": {
      "text/plain": [
       "'Smoking is Awesome.mp4'"
      ]
     },
     "execution_count": 3,
     "metadata": {},
     "output_type": "execute_result"
    }
   ],
   "source": [
    "fr"
   ]
  },
  {
   "cell_type": "code",
   "execution_count": 3,
   "id": "eea90fa53de682b3",
   "metadata": {
    "ExecuteTime": {
     "end_time": "2024-05-06T01:06:36.117159Z",
     "start_time": "2024-05-06T01:06:36.107659Z"
    }
   },
   "outputs": [],
   "source": [
    "\n",
    "video_path = \"\"\n",
    "with open(video_path) as video:\n",
    "    bot.send_video(message.chat.id, video)"
   ]
  },
  {
   "cell_type": "code",
   "execution_count": 4,
   "id": "1cfa9e2eb787ea9d",
   "metadata": {
    "ExecuteTime": {
     "end_time": "2024-05-06T01:06:38.210898Z",
     "start_time": "2024-05-06T01:06:38.075772Z"
    }
   },
   "outputs": [],
   "source": []
  },
  {
   "cell_type": "code",
   "execution_count": null,
   "id": "aad945a8ade39a19",
   "metadata": {},
   "outputs": [],
   "source": []
  },
  {
   "cell_type": "code",
   "execution_count": null,
   "id": "7a6ea8d0cc562129",
   "metadata": {},
   "outputs": [],
   "source": []
  }
 ],
 "metadata": {
  "kernelspec": {
   "display_name": "Python 3 (ipykernel)",
   "language": "python",
   "name": "python3"
  },
  "language_info": {
   "codemirror_mode": {
    "name": "ipython",
    "version": 3
   },
   "file_extension": ".py",
   "mimetype": "text/x-python",
   "name": "python",
   "nbconvert_exporter": "python",
   "pygments_lexer": "ipython3",
   "version": "3.11.6"
  }
 },
 "nbformat": 4,
 "nbformat_minor": 5
}
