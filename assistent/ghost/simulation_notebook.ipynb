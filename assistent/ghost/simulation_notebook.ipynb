{
 "cells": [
  {
   "cell_type": "code",
   "execution_count": 1,
   "id": "8985a7a7-5287-4283-ba3f-754f27075f25",
   "metadata": {},
   "outputs": [],
   "source": [
    "from ghost import run_bot"
   ]
  },
  {
   "cell_type": "code",
   "execution_count": 2,
   "id": "f9adc765-1fc9-4dc4-abd7-d8f87cf32fba",
   "metadata": {},
   "outputs": [],
   "source": [
    "run_bot()"
   ]
  },
  {
   "cell_type": "code",
   "execution_count": null,
   "id": "57b3a970-1d54-4983-861f-123a02258ae9",
   "metadata": {},
   "outputs": [],
   "source": []
  }
 ],
 "metadata": {
  "kernelspec": {
   "display_name": "modeling_control",
   "language": "python",
   "name": "modeling_control"
  },
  "language_info": {
   "codemirror_mode": {
    "name": "ipython",
    "version": 3
   },
   "file_extension": ".py",
   "mimetype": "text/x-python",
   "name": "python",
   "nbconvert_exporter": "python",
   "pygments_lexer": "ipython3",
   "version": "3.11.6"
  }
 },
 "nbformat": 4,
 "nbformat_minor": 5
}
