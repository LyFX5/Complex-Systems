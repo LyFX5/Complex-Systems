{
 "cells": [
  {
   "cell_type": "code",
   "execution_count": 1,
   "id": "e0834720-c127-4a13-9b0f-4ef4cf4dfe0a",
   "metadata": {},
   "outputs": [
    {
     "name": "stdout",
     "output_type": "stream",
     "text": [
      "pygame 2.2.0 (SDL 2.30.5, Python 3.11.8)\n",
      "Hello from the pygame community. https://www.pygame.org/contribute.html\n"
     ]
    }
   ],
   "source": [
    "# from tqdm import tqdm\n",
    "import numpy as np\n",
    "# import pandas as pd\n",
    "import matplotlib.pyplot as plt\n",
    "# from scipy.stats import multivariate_normal\n",
    "from finite_binary_machines.base import Agent, Simulation\n",
    "from finite_binary_machines.visualization import PygameSession"
   ]
  },
  {
   "cell_type": "code",
   "execution_count": 20,
   "id": "f80871eb-57d2-4c32-8225-9873450192a4",
   "metadata": {},
   "outputs": [],
   "source": [
    "STEPS_IN_SIMULATION = 100\n",
    "ROWS_NUMBER = 64\n",
    "COLUMNS_NUMBER = 64\n",
    "ALPHABET_SIZE = 2\n",
    "\n",
    "# AGENTS_NUMBER = 500\n",
    "# BITS_NUMBER = 6"
   ]
  },
  {
   "cell_type": "code",
   "execution_count": 21,
   "id": "36b21a21-9e0e-4fc7-8924-39b6ad81fefd",
   "metadata": {},
   "outputs": [],
   "source": [
    "init_state = np.random.choice(ALPHABET_SIZE, (ROWS_NUMBER, COLUMNS_NUMBER))"
   ]
  },
  {
   "cell_type": "code",
   "execution_count": 22,
   "id": "0da6ca3c-d634-41a3-b2d6-7efb01f0281e",
   "metadata": {},
   "outputs": [],
   "source": [
    "cohesion = np.random.choice(ALPHABET_SIZE, (int(np.log2(np.prod(init_state.shape))),))"
   ]
  },
  {
   "cell_type": "code",
   "execution_count": 23,
   "id": "ad3d6d1c-2cf9-4209-9e36-0a1f3eb1619f",
   "metadata": {},
   "outputs": [],
   "source": [
    "cohesion = np.zeros((int(np.log2(np.prod(init_state.shape))),))"
   ]
  },
  {
   "cell_type": "code",
   "execution_count": 24,
   "id": "22577666-c630-44e4-8eb3-8a47afe03990",
   "metadata": {},
   "outputs": [
    {
     "data": {
      "text/plain": [
       "array([0., 0., 0., 0., 0., 0., 0., 0., 0., 0., 0., 0.])"
      ]
     },
     "execution_count": 24,
     "metadata": {},
     "output_type": "execute_result"
    }
   ],
   "source": [
    "cohesion"
   ]
  },
  {
   "cell_type": "code",
   "execution_count": 25,
   "id": "9be6670c-aea0-41f9-8055-5deddc57dc00",
   "metadata": {},
   "outputs": [],
   "source": [
    "agent = Agent(init_state, cohesion)"
   ]
  },
  {
   "cell_type": "code",
   "execution_count": 26,
   "id": "3fd86715-7a46-4b01-8ced-73077b60732a",
   "metadata": {},
   "outputs": [],
   "source": [
    "simulation = Simulation(agent, STEPS_IN_SIMULATION)"
   ]
  },
  {
   "cell_type": "code",
   "execution_count": 27,
   "id": "260db0de-a2e8-4cc2-8e4d-3369059f153e",
   "metadata": {},
   "outputs": [],
   "source": [
    "session = PygameSession(simulation, by_mouse=False)"
   ]
  },
  {
   "cell_type": "code",
   "execution_count": 28,
   "id": "5b440c32-721a-42dd-a9b4-28bb90e1ac78",
   "metadata": {},
   "outputs": [],
   "source": [
    "session.draw_simulation()"
   ]
  },
  {
   "cell_type": "code",
   "execution_count": null,
   "id": "a85e48df-2b5b-48b9-a315-f9db03405ca3",
   "metadata": {},
   "outputs": [],
   "source": []
  },
  {
   "cell_type": "code",
   "execution_count": null,
   "id": "0717e638-b05d-43ba-8439-8e6ba51451ca",
   "metadata": {},
   "outputs": [],
   "source": []
  }
 ],
 "metadata": {
  "kernelspec": {
   "display_name": "modeling_control",
   "language": "python",
   "name": "modeling_control"
  },
  "language_info": {
   "codemirror_mode": {
    "name": "ipython",
    "version": 3
   },
   "file_extension": ".py",
   "mimetype": "text/x-python",
   "name": "python",
   "nbconvert_exporter": "python",
   "pygments_lexer": "ipython3",
   "version": "3.11.8"
  }
 },
 "nbformat": 4,
 "nbformat_minor": 5
}
