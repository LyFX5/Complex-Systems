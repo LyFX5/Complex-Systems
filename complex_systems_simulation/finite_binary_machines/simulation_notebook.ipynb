{
 "cells": [
  {
   "cell_type": "code",
   "execution_count": 1,
   "id": "e0834720-c127-4a13-9b0f-4ef4cf4dfe0a",
   "metadata": {},
   "outputs": [
    {
     "name": "stdout",
     "output_type": "stream",
     "text": [
      "pygame 2.2.0 (SDL 2.26.5, Python 3.11.6)\n",
      "Hello from the pygame community. https://www.pygame.org/contribute.html\n"
     ]
    }
   ],
   "source": [
    "# from tqdm import tqdm\n",
    "import numpy as np\n",
    "# import pandas as pd\n",
    "# from scipy.stats import multivariate_normal\n",
    "from finite_binary_machines.base import MultiAgent, MultiAgentGameLife, Simulation\n",
    "from finite_binary_machines.visualization import PygameSession\n",
    "from finite_binary_machines.utils import InitialState"
   ]
  },
  {
   "cell_type": "code",
   "execution_count": 2,
   "id": "f80871eb-57d2-4c32-8225-9873450192a4",
   "metadata": {},
   "outputs": [],
   "source": [
    "STEPS_IN_SIMULATION = 200\n",
    "ROWS_NUMBER = 16*4\n",
    "COLUMNS_NUMBER = 16*4"
   ]
  },
  {
   "cell_type": "code",
   "execution_count": 3,
   "id": "285116ed-aef0-4076-9bdc-ea8bae2f7a07",
   "metadata": {},
   "outputs": [],
   "source": [
    "init_state = InitialState(ROWS_NUMBER, COLUMNS_NUMBER)"
   ]
  },
  {
   "cell_type": "code",
   "execution_count": 4,
   "id": "3c69e101-bc93-4aee-9554-c16b4a609b07",
   "metadata": {},
   "outputs": [],
   "source": [
    "init_state = init_state.glider_gun"
   ]
  },
  {
   "cell_type": "code",
   "execution_count": 5,
   "id": "9be6670c-aea0-41f9-8055-5deddc57dc00",
   "metadata": {},
   "outputs": [],
   "source": [
    "# system = MultiAgent(init_state, spherical=True, depth=2)\n",
    "system = MultiAgentGameLife(init_state, spherical=True,)"
   ]
  },
  {
   "cell_type": "code",
   "execution_count": 6,
   "id": "3fd86715-7a46-4b01-8ced-73077b60732a",
   "metadata": {},
   "outputs": [],
   "source": [
    "simulation = Simulation(system, STEPS_IN_SIMULATION)"
   ]
  },
  {
   "cell_type": "code",
   "execution_count": 7,
   "id": "260db0de-a2e8-4cc2-8e4d-3369059f153e",
   "metadata": {},
   "outputs": [],
   "source": [
    "session = PygameSession(simulation=simulation, by_mouse=False, rendering_duration=0.1)"
   ]
  },
  {
   "cell_type": "code",
   "execution_count": 8,
   "id": "4e68cd81-8170-4e02-b2aa-7edee1219917",
   "metadata": {},
   "outputs": [],
   "source": [
    "# session.simulation.group.macro_cells"
   ]
  },
  {
   "cell_type": "code",
   "execution_count": 9,
   "id": "5b440c32-721a-42dd-a9b4-28bb90e1ac78",
   "metadata": {},
   "outputs": [],
   "source": [
    "session.draw_simulation()"
   ]
  },
  {
   "cell_type": "code",
   "execution_count": 10,
   "id": "a85e48df-2b5b-48b9-a315-f9db03405ca3",
   "metadata": {},
   "outputs": [],
   "source": [
    "# TODO автокаталитические реакции, морфогенез тьюринга, реакция диффузии, \n",
    "# пропускная способность, негэнтропия, организация, энергия информация, зарождение жизни"
   ]
  },
  {
   "cell_type": "code",
   "execution_count": null,
   "id": "d74d188b-c3de-4b21-8ad9-3fc83f157a49",
   "metadata": {},
   "outputs": [],
   "source": []
  },
  {
   "cell_type": "code",
   "execution_count": null,
   "id": "8e6f1af9-2878-426b-bb5b-40b90e5654ab",
   "metadata": {},
   "outputs": [],
   "source": []
  }
 ],
 "metadata": {
  "kernelspec": {
   "display_name": "modeling_control",
   "language": "python",
   "name": "modeling_control"
  },
  "language_info": {
   "codemirror_mode": {
    "name": "ipython",
    "version": 3
   },
   "file_extension": ".py",
   "mimetype": "text/x-python",
   "name": "python",
   "nbconvert_exporter": "python",
   "pygments_lexer": "ipython3",
   "version": "3.11.8"
  }
 },
 "nbformat": 4,
 "nbformat_minor": 5
}
