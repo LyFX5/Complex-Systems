{
 "cells": [
  {
   "cell_type": "code",
   "execution_count": 1,
   "id": "e0834720-c127-4a13-9b0f-4ef4cf4dfe0a",
   "metadata": {},
   "outputs": [
    {
     "name": "stdout",
     "output_type": "stream",
     "text": [
      "pygame 2.2.0 (SDL 2.30.5, Python 3.11.8)\n",
      "Hello from the pygame community. https://www.pygame.org/contribute.html\n"
     ]
    }
   ],
   "source": [
    "# from tqdm import tqdm\n",
    "import numpy as np\n",
    "# import pandas as pd\n",
    "# from scipy.stats import multivariate_normal\n",
    "from finite_binary_machines.base import MultiAgent, Simulation\n",
    "from finite_binary_machines.visualization import PygameSession"
   ]
  },
  {
   "cell_type": "code",
   "execution_count": 2,
   "id": "f80871eb-57d2-4c32-8225-9873450192a4",
   "metadata": {},
   "outputs": [],
   "source": [
    "STEPS_IN_SIMULATION = 300\n",
    "ROWS_NUMBER = 50\n",
    "COLUMNS_NUMBER = 50"
   ]
  },
  {
   "cell_type": "code",
   "execution_count": 3,
   "id": "9b754403-b3f0-463b-bcc3-9ee4506a3d3f",
   "metadata": {},
   "outputs": [],
   "source": [
    "init_state_cells = [(22, 8),\n",
    "        (12, 7),\n",
    "        (36, 7),\n",
    "        (17, 9),\n",
    "        (11, 8),\n",
    "        (1, 9),\n",
    "        (25, 4),\n",
    "        (2, 8),\n",
    "        (16, 7),\n",
    "        (25, 10),\n",
    "        (21, 6),\n",
    "        (23, 9),\n",
    "        (14, 6),\n",
    "        (36, 6),\n",
    "        (22, 7),\n",
    "        (14, 12),\n",
    "        (17, 8),\n",
    "        (11, 10),\n",
    "        (25, 9),\n",
    "        (35, 7),\n",
    "        (1, 8),\n",
    "        (18, 9),\n",
    "        (22, 6),\n",
    "        (21, 8),\n",
    "        (23, 5),\n",
    "        (12, 11),\n",
    "        (17, 10),\n",
    "        (11, 9),\n",
    "        (35, 6),\n",
    "        (25, 5),\n",
    "        (2, 9),\n",
    "        (13, 6),\n",
    "        (13, 12),\n",
    "        (15, 9),\n",
    "        (16, 11),\n",
    "        (21, 7)]"
   ]
  },
  {
   "cell_type": "code",
   "execution_count": 4,
   "id": "1c14f83d-d101-4949-ac0c-e413218ce6b9",
   "metadata": {},
   "outputs": [],
   "source": [
    "init_state = np.zeros((ROWS_NUMBER, COLUMNS_NUMBER))"
   ]
  },
  {
   "cell_type": "code",
   "execution_count": 5,
   "id": "3d991175-371e-4e6b-8ecd-f5111cab21ec",
   "metadata": {},
   "outputs": [],
   "source": [
    "for x, y in init_state_cells:\n",
    "    init_state[y][x] = 1        "
   ]
  },
  {
   "cell_type": "code",
   "execution_count": 6,
   "id": "9be6670c-aea0-41f9-8055-5deddc57dc00",
   "metadata": {},
   "outputs": [],
   "source": [
    "system = MultiAgent(init_state)"
   ]
  },
  {
   "cell_type": "code",
   "execution_count": 7,
   "id": "3fd86715-7a46-4b01-8ced-73077b60732a",
   "metadata": {},
   "outputs": [],
   "source": [
    "simulation = Simulation(system, STEPS_IN_SIMULATION)"
   ]
  },
  {
   "cell_type": "code",
   "execution_count": 8,
   "id": "260db0de-a2e8-4cc2-8e4d-3369059f153e",
   "metadata": {},
   "outputs": [],
   "source": [
    "session = PygameSession(simulation=simulation, by_mouse=False, rendering_duration=0.05)"
   ]
  },
  {
   "cell_type": "code",
   "execution_count": 9,
   "id": "5b440c32-721a-42dd-a9b4-28bb90e1ac78",
   "metadata": {},
   "outputs": [],
   "source": [
    "session.draw_simulation()"
   ]
  },
  {
   "cell_type": "code",
   "execution_count": null,
   "id": "a85e48df-2b5b-48b9-a315-f9db03405ca3",
   "metadata": {},
   "outputs": [],
   "source": [
    "https://github.com/matheusgomes28/pygame-life"
   ]
  },
  {
   "cell_type": "code",
   "execution_count": null,
   "id": "0717e638-b05d-43ba-8439-8e6ba51451ca",
   "metadata": {},
   "outputs": [],
   "source": []
  }
 ],
 "metadata": {
  "kernelspec": {
   "display_name": "modeling_control",
   "language": "python",
   "name": "modeling_control"
  },
  "language_info": {
   "codemirror_mode": {
    "name": "ipython",
    "version": 3
   },
   "file_extension": ".py",
   "mimetype": "text/x-python",
   "name": "python",
   "nbconvert_exporter": "python",
   "pygments_lexer": "ipython3",
   "version": "3.11.8"
  }
 },
 "nbformat": 4,
 "nbformat_minor": 5
}
