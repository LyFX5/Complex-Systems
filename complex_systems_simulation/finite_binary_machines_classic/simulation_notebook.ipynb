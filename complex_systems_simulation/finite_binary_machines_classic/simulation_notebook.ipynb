{
 "cells": [
  {
   "cell_type": "code",
   "execution_count": 1,
   "id": "e0834720-c127-4a13-9b0f-4ef4cf4dfe0a",
   "metadata": {},
   "outputs": [
    {
     "name": "stdout",
     "output_type": "stream",
     "text": [
      "pygame 2.2.0 (SDL 2.30.5, Python 3.11.8)\n",
      "Hello from the pygame community. https://www.pygame.org/contribute.html\n"
     ]
    }
   ],
   "source": [
    "# from tqdm import tqdm\n",
    "import numpy as np\n",
    "# import pandas as pd\n",
    "# from scipy.stats import multivariate_normal\n",
    "from finite_binary_machines.base import MultiAgent, Simulation\n",
    "from finite_binary_machines.visualization import PygameSession"
   ]
  },
  {
   "cell_type": "code",
   "execution_count": 49,
   "id": "f80871eb-57d2-4c32-8225-9873450192a4",
   "metadata": {},
   "outputs": [],
   "source": [
    "STEPS_IN_SIMULATION = 200\n",
    "ROWS_NUMBER = 100\n",
    "COLUMNS_NUMBER = 100\n",
    "ALPHABET_SIZE = 2\n",
    " \n",
    "# AGENTS_NUMBER = 500\n",
    "# BITS_NUMBER = 6"
   ]
  },
  {
   "cell_type": "code",
   "execution_count": 44,
   "id": "36b21a21-9e0e-4fc7-8924-39b6ad81fefd",
   "metadata": {},
   "outputs": [],
   "source": [
    "init_state = np.random.choice(ALPHABET_SIZE, (ROWS_NUMBER, COLUMNS_NUMBER))"
   ]
  },
  {
   "cell_type": "code",
   "execution_count": 54,
   "id": "9be6670c-aea0-41f9-8055-5deddc57dc00",
   "metadata": {},
   "outputs": [],
   "source": [
    "system = MultiAgent(init_state)"
   ]
  },
  {
   "cell_type": "code",
   "execution_count": 55,
   "id": "3fd86715-7a46-4b01-8ced-73077b60732a",
   "metadata": {},
   "outputs": [],
   "source": [
    "simulation = Simulation(system, STEPS_IN_SIMULATION)"
   ]
  },
  {
   "cell_type": "code",
   "execution_count": 56,
   "id": "260db0de-a2e8-4cc2-8e4d-3369059f153e",
   "metadata": {},
   "outputs": [],
   "source": [
    "session = PygameSession(simulation=simulation, by_mouse=False, rendering_duration=0.2)"
   ]
  },
  {
   "cell_type": "code",
   "execution_count": 57,
   "id": "5b440c32-721a-42dd-a9b4-28bb90e1ac78",
   "metadata": {},
   "outputs": [],
   "source": [
    "session.draw_simulation()"
   ]
  },
  {
   "cell_type": "code",
   "execution_count": null,
   "id": "a85e48df-2b5b-48b9-a315-f9db03405ca3",
   "metadata": {},
   "outputs": [],
   "source": []
  },
  {
   "cell_type": "code",
   "execution_count": null,
   "id": "0717e638-b05d-43ba-8439-8e6ba51451ca",
   "metadata": {},
   "outputs": [],
   "source": []
  }
 ],
 "metadata": {
  "kernelspec": {
   "display_name": "modeling_control",
   "language": "python",
   "name": "modeling_control"
  },
  "language_info": {
   "codemirror_mode": {
    "name": "ipython",
    "version": 3
   },
   "file_extension": ".py",
   "mimetype": "text/x-python",
   "name": "python",
   "nbconvert_exporter": "python",
   "pygments_lexer": "ipython3",
   "version": "3.11.8"
  }
 },
 "nbformat": 4,
 "nbformat_minor": 5
}
